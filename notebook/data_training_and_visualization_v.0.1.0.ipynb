{
 "cells": [
  {
   "cell_type": "code",
   "execution_count": 128,
   "metadata": {
    "_cell_guid": "b1076dfc-b9ad-4769-8c92-a6c4dae69d19",
    "_uuid": "8f2839f25d086af736a60e9eeb907d3b93b6e0e5",
    "execution": {
     "iopub.execute_input": "2024-02-29T12:33:50.178670Z",
     "iopub.status.busy": "2024-02-29T12:33:50.178176Z",
     "iopub.status.idle": "2024-02-29T12:33:50.197541Z",
     "shell.execute_reply": "2024-02-29T12:33:50.194704Z",
     "shell.execute_reply.started": "2024-02-29T12:33:50.178635Z"
    }
   },
   "outputs": [],
   "source": [
    "import pandas as pd\n",
    "import numpy as np\n",
    "import matplotlib.pyplot as plt\n",
    "%matplotlib inline\n",
    "import seaborn as sns\n",
    "sns.set_palette(\"Set2\")\n",
    "\n"
   ]
  },
  {
   "cell_type": "code",
   "execution_count": 129,
   "metadata": {
    "execution": {
     "iopub.execute_input": "2024-02-29T12:33:50.202811Z",
     "iopub.status.busy": "2024-02-29T12:33:50.200499Z",
     "iopub.status.idle": "2024-02-29T12:33:50.218272Z",
     "shell.execute_reply": "2024-02-29T12:33:50.217158Z",
     "shell.execute_reply.started": "2024-02-29T12:33:50.202764Z"
    }
   },
   "outputs": [],
   "source": [
    "from sklearn.preprocessing import OneHotEncoder\n",
    "from sklearn.model_selection import train_test_split\n",
    "from sklearn.linear_model import LogisticRegression\n",
    "from sklearn.ensemble import RandomForestClassifier\n",
    "from sklearn.svm import SVC\n",
    "from sklearn.metrics import accuracy_score, classification_report\n",
    "from sklearn.preprocessing import OneHotEncoder"
   ]
  },
  {
   "cell_type": "code",
   "execution_count": 130,
   "metadata": {
    "execution": {
     "iopub.execute_input": "2024-02-29T12:33:50.220266Z",
     "iopub.status.busy": "2024-02-29T12:33:50.219738Z",
     "iopub.status.idle": "2024-02-29T12:33:50.259820Z",
     "shell.execute_reply": "2024-02-29T12:33:50.258760Z",
     "shell.execute_reply.started": "2024-02-29T12:33:50.220037Z"
    }
   },
   "outputs": [
    {
     "data": {
      "text/html": [
       "<div>\n",
       "<style scoped>\n",
       "    .dataframe tbody tr th:only-of-type {\n",
       "        vertical-align: middle;\n",
       "    }\n",
       "\n",
       "    .dataframe tbody tr th {\n",
       "        vertical-align: top;\n",
       "    }\n",
       "\n",
       "    .dataframe thead th {\n",
       "        text-align: right;\n",
       "    }\n",
       "</style>\n",
       "<table border=\"1\" class=\"dataframe\">\n",
       "  <thead>\n",
       "    <tr style=\"text-align: right;\">\n",
       "      <th></th>\n",
       "      <th>Patient Number</th>\n",
       "      <th>Sadness</th>\n",
       "      <th>Euphoric</th>\n",
       "      <th>Exhausted</th>\n",
       "      <th>Sleep dissorder</th>\n",
       "      <th>Mood Swing</th>\n",
       "      <th>Suicidal thoughts</th>\n",
       "      <th>Anorxia</th>\n",
       "      <th>Authority Respect</th>\n",
       "      <th>Try-Explanation</th>\n",
       "      <th>Aggressive Response</th>\n",
       "      <th>Ignore &amp; Move-On</th>\n",
       "      <th>Nervous Break-down</th>\n",
       "      <th>Admit Mistakes</th>\n",
       "      <th>Overthinking</th>\n",
       "      <th>Sexual Activity</th>\n",
       "      <th>Concentration</th>\n",
       "      <th>Optimisim</th>\n",
       "      <th>Expert Diagnose</th>\n",
       "    </tr>\n",
       "  </thead>\n",
       "  <tbody>\n",
       "    <tr>\n",
       "      <th>0</th>\n",
       "      <td>Patiant-01</td>\n",
       "      <td>Usually</td>\n",
       "      <td>Seldom</td>\n",
       "      <td>Sometimes</td>\n",
       "      <td>Sometimes</td>\n",
       "      <td>YES</td>\n",
       "      <td>YES</td>\n",
       "      <td>NO</td>\n",
       "      <td>NO</td>\n",
       "      <td>YES</td>\n",
       "      <td>NO</td>\n",
       "      <td>NO</td>\n",
       "      <td>YES</td>\n",
       "      <td>YES</td>\n",
       "      <td>YES</td>\n",
       "      <td>3 From 10</td>\n",
       "      <td>3 From 10</td>\n",
       "      <td>4 From 10</td>\n",
       "      <td>Bipolar Type-2</td>\n",
       "    </tr>\n",
       "    <tr>\n",
       "      <th>1</th>\n",
       "      <td>Patiant-02</td>\n",
       "      <td>Usually</td>\n",
       "      <td>Seldom</td>\n",
       "      <td>Usually</td>\n",
       "      <td>Sometimes</td>\n",
       "      <td>NO</td>\n",
       "      <td>YES</td>\n",
       "      <td>NO</td>\n",
       "      <td>NO</td>\n",
       "      <td>NO</td>\n",
       "      <td>NO</td>\n",
       "      <td>NO</td>\n",
       "      <td>NO</td>\n",
       "      <td>NO</td>\n",
       "      <td>NO</td>\n",
       "      <td>4 From 10</td>\n",
       "      <td>2 From 10</td>\n",
       "      <td>5 From 10</td>\n",
       "      <td>Depression</td>\n",
       "    </tr>\n",
       "    <tr>\n",
       "      <th>2</th>\n",
       "      <td>Patiant-03</td>\n",
       "      <td>Sometimes</td>\n",
       "      <td>Most-Often</td>\n",
       "      <td>Sometimes</td>\n",
       "      <td>Sometimes</td>\n",
       "      <td>YES</td>\n",
       "      <td>NO</td>\n",
       "      <td>NO</td>\n",
       "      <td>NO</td>\n",
       "      <td>YES</td>\n",
       "      <td>YES</td>\n",
       "      <td>NO</td>\n",
       "      <td>YES</td>\n",
       "      <td>YES</td>\n",
       "      <td>NO</td>\n",
       "      <td>6 From 10</td>\n",
       "      <td>5 From 10</td>\n",
       "      <td>7 From 10</td>\n",
       "      <td>Bipolar Type-1</td>\n",
       "    </tr>\n",
       "    <tr>\n",
       "      <th>3</th>\n",
       "      <td>Patiant-04</td>\n",
       "      <td>Usually</td>\n",
       "      <td>Seldom</td>\n",
       "      <td>Usually</td>\n",
       "      <td>Most-Often</td>\n",
       "      <td>YES</td>\n",
       "      <td>YES</td>\n",
       "      <td>YES</td>\n",
       "      <td>NO</td>\n",
       "      <td>YES</td>\n",
       "      <td>NO</td>\n",
       "      <td>NO</td>\n",
       "      <td>NO</td>\n",
       "      <td>NO</td>\n",
       "      <td>NO</td>\n",
       "      <td>3 From 10</td>\n",
       "      <td>2 From 10</td>\n",
       "      <td>2 From 10</td>\n",
       "      <td>Bipolar Type-2</td>\n",
       "    </tr>\n",
       "    <tr>\n",
       "      <th>4</th>\n",
       "      <td>Patiant-05</td>\n",
       "      <td>Usually</td>\n",
       "      <td>Usually</td>\n",
       "      <td>Sometimes</td>\n",
       "      <td>Sometimes</td>\n",
       "      <td>NO</td>\n",
       "      <td>NO</td>\n",
       "      <td>NO</td>\n",
       "      <td>NO</td>\n",
       "      <td>NO</td>\n",
       "      <td>NO</td>\n",
       "      <td>NO</td>\n",
       "      <td>YES</td>\n",
       "      <td>YES</td>\n",
       "      <td>YES</td>\n",
       "      <td>5 From 10</td>\n",
       "      <td>5 From 10</td>\n",
       "      <td>6 From 10</td>\n",
       "      <td>Normal</td>\n",
       "    </tr>\n",
       "  </tbody>\n",
       "</table>\n",
       "</div>"
      ],
      "text/plain": [
       "  Patient Number    Sadness    Euphoric  Exhausted Sleep dissorder Mood Swing  \\\n",
       "0     Patiant-01    Usually      Seldom  Sometimes       Sometimes        YES   \n",
       "1     Patiant-02    Usually      Seldom    Usually       Sometimes         NO   \n",
       "2     Patiant-03  Sometimes  Most-Often  Sometimes       Sometimes        YES   \n",
       "3     Patiant-04    Usually      Seldom    Usually      Most-Often        YES   \n",
       "4     Patiant-05    Usually     Usually  Sometimes       Sometimes         NO   \n",
       "\n",
       "  Suicidal thoughts Anorxia Authority Respect Try-Explanation  \\\n",
       "0              YES       NO                NO             YES   \n",
       "1               YES      NO                NO              NO   \n",
       "2                NO      NO                NO             YES   \n",
       "3               YES     YES                NO             YES   \n",
       "4                NO      NO                NO              NO   \n",
       "\n",
       "  Aggressive Response Ignore & Move-On Nervous Break-down Admit Mistakes  \\\n",
       "0                  NO               NO                YES            YES   \n",
       "1                  NO               NO                 NO             NO   \n",
       "2                 YES               NO                YES            YES   \n",
       "3                  NO               NO                 NO             NO   \n",
       "4                  NO               NO                YES            YES   \n",
       "\n",
       "  Overthinking Sexual Activity Concentration  Optimisim Expert Diagnose  \n",
       "0          YES       3 From 10     3 From 10  4 From 10  Bipolar Type-2  \n",
       "1           NO       4 From 10     2 From 10  5 From 10      Depression  \n",
       "2           NO       6 From 10     5 From 10  7 From 10  Bipolar Type-1  \n",
       "3           NO       3 From 10     2 From 10  2 From 10  Bipolar Type-2  \n",
       "4          YES       5 From 10     5 From 10  6 From 10          Normal  "
      ]
     },
     "execution_count": 130,
     "metadata": {},
     "output_type": "execute_result"
    }
   ],
   "source": [
    "df = pd.read_csv('./Dataset-Mental-Disorders.csv')\n",
    "df.head()"
   ]
  },
  {
   "cell_type": "code",
   "execution_count": 131,
   "metadata": {
    "execution": {
     "iopub.execute_input": "2024-02-29T12:33:50.271508Z",
     "iopub.status.busy": "2024-02-29T12:33:50.266881Z",
     "iopub.status.idle": "2024-02-29T12:33:50.290423Z",
     "shell.execute_reply": "2024-02-29T12:33:50.289224Z",
     "shell.execute_reply.started": "2024-02-29T12:33:50.271457Z"
    }
   },
   "outputs": [
    {
     "name": "stdout",
     "output_type": "stream",
     "text": [
      "<class 'pandas.core.frame.DataFrame'>\n",
      "RangeIndex: 120 entries, 0 to 119\n",
      "Data columns (total 19 columns):\n",
      " #   Column               Non-Null Count  Dtype \n",
      "---  ------               --------------  ----- \n",
      " 0   Patient Number       120 non-null    object\n",
      " 1   Sadness              120 non-null    object\n",
      " 2   Euphoric             120 non-null    object\n",
      " 3   Exhausted            120 non-null    object\n",
      " 4   Sleep dissorder      120 non-null    object\n",
      " 5   Mood Swing           120 non-null    object\n",
      " 6   Suicidal thoughts    120 non-null    object\n",
      " 7   Anorxia              120 non-null    object\n",
      " 8   Authority Respect    120 non-null    object\n",
      " 9   Try-Explanation      120 non-null    object\n",
      " 10  Aggressive Response  120 non-null    object\n",
      " 11  Ignore & Move-On     120 non-null    object\n",
      " 12  Nervous Break-down   120 non-null    object\n",
      " 13  Admit Mistakes       120 non-null    object\n",
      " 14  Overthinking         120 non-null    object\n",
      " 15  Sexual Activity      120 non-null    object\n",
      " 16  Concentration        120 non-null    object\n",
      " 17  Optimisim            120 non-null    object\n",
      " 18  Expert Diagnose      120 non-null    object\n",
      "dtypes: object(19)\n",
      "memory usage: 17.9+ KB\n"
     ]
    }
   ],
   "source": [
    "df.info()"
   ]
  },
  {
   "cell_type": "code",
   "execution_count": 132,
   "metadata": {
    "execution": {
     "iopub.execute_input": "2024-02-29T12:33:50.301461Z",
     "iopub.status.busy": "2024-02-29T12:33:50.297719Z",
     "iopub.status.idle": "2024-02-29T12:33:50.349311Z",
     "shell.execute_reply": "2024-02-29T12:33:50.348342Z",
     "shell.execute_reply.started": "2024-02-29T12:33:50.301402Z"
    }
   },
   "outputs": [
    {
     "data": {
      "text/html": [
       "<div>\n",
       "<style scoped>\n",
       "    .dataframe tbody tr th:only-of-type {\n",
       "        vertical-align: middle;\n",
       "    }\n",
       "\n",
       "    .dataframe tbody tr th {\n",
       "        vertical-align: top;\n",
       "    }\n",
       "\n",
       "    .dataframe thead th {\n",
       "        text-align: right;\n",
       "    }\n",
       "</style>\n",
       "<table border=\"1\" class=\"dataframe\">\n",
       "  <thead>\n",
       "    <tr style=\"text-align: right;\">\n",
       "      <th></th>\n",
       "      <th>Patient Number</th>\n",
       "      <th>Sadness</th>\n",
       "      <th>Euphoric</th>\n",
       "      <th>Exhausted</th>\n",
       "      <th>Sleep dissorder</th>\n",
       "      <th>Mood Swing</th>\n",
       "      <th>Suicidal thoughts</th>\n",
       "      <th>Anorxia</th>\n",
       "      <th>Authority Respect</th>\n",
       "      <th>Try-Explanation</th>\n",
       "      <th>Aggressive Response</th>\n",
       "      <th>Ignore &amp; Move-On</th>\n",
       "      <th>Nervous Break-down</th>\n",
       "      <th>Admit Mistakes</th>\n",
       "      <th>Overthinking</th>\n",
       "      <th>Sexual Activity</th>\n",
       "      <th>Concentration</th>\n",
       "      <th>Optimisim</th>\n",
       "      <th>Expert Diagnose</th>\n",
       "    </tr>\n",
       "  </thead>\n",
       "  <tbody>\n",
       "    <tr>\n",
       "      <th>count</th>\n",
       "      <td>120</td>\n",
       "      <td>120</td>\n",
       "      <td>120</td>\n",
       "      <td>120</td>\n",
       "      <td>120</td>\n",
       "      <td>120</td>\n",
       "      <td>120</td>\n",
       "      <td>120</td>\n",
       "      <td>120</td>\n",
       "      <td>120</td>\n",
       "      <td>120</td>\n",
       "      <td>120</td>\n",
       "      <td>120</td>\n",
       "      <td>120</td>\n",
       "      <td>120</td>\n",
       "      <td>120</td>\n",
       "      <td>120</td>\n",
       "      <td>120</td>\n",
       "      <td>120</td>\n",
       "    </tr>\n",
       "    <tr>\n",
       "      <th>unique</th>\n",
       "      <td>120</td>\n",
       "      <td>4</td>\n",
       "      <td>4</td>\n",
       "      <td>4</td>\n",
       "      <td>4</td>\n",
       "      <td>2</td>\n",
       "      <td>3</td>\n",
       "      <td>2</td>\n",
       "      <td>2</td>\n",
       "      <td>2</td>\n",
       "      <td>2</td>\n",
       "      <td>2</td>\n",
       "      <td>2</td>\n",
       "      <td>2</td>\n",
       "      <td>2</td>\n",
       "      <td>9</td>\n",
       "      <td>8</td>\n",
       "      <td>9</td>\n",
       "      <td>4</td>\n",
       "    </tr>\n",
       "    <tr>\n",
       "      <th>top</th>\n",
       "      <td>Patiant-01</td>\n",
       "      <td>Usually</td>\n",
       "      <td>Seldom</td>\n",
       "      <td>Sometimes</td>\n",
       "      <td>Sometimes</td>\n",
       "      <td>NO</td>\n",
       "      <td>NO</td>\n",
       "      <td>NO</td>\n",
       "      <td>NO</td>\n",
       "      <td>NO</td>\n",
       "      <td>NO</td>\n",
       "      <td>NO</td>\n",
       "      <td>YES</td>\n",
       "      <td>NO</td>\n",
       "      <td>YES</td>\n",
       "      <td>5 From 10</td>\n",
       "      <td>4 From 10</td>\n",
       "      <td>6 From 10</td>\n",
       "      <td>Bipolar Type-2</td>\n",
       "    </tr>\n",
       "    <tr>\n",
       "      <th>freq</th>\n",
       "      <td>1</td>\n",
       "      <td>42</td>\n",
       "      <td>46</td>\n",
       "      <td>38</td>\n",
       "      <td>44</td>\n",
       "      <td>63</td>\n",
       "      <td>63</td>\n",
       "      <td>74</td>\n",
       "      <td>73</td>\n",
       "      <td>63</td>\n",
       "      <td>62</td>\n",
       "      <td>70</td>\n",
       "      <td>62</td>\n",
       "      <td>61</td>\n",
       "      <td>65</td>\n",
       "      <td>22</td>\n",
       "      <td>33</td>\n",
       "      <td>21</td>\n",
       "      <td>31</td>\n",
       "    </tr>\n",
       "  </tbody>\n",
       "</table>\n",
       "</div>"
      ],
      "text/plain": [
       "       Patient Number  Sadness Euphoric  Exhausted Sleep dissorder Mood Swing  \\\n",
       "count             120      120      120        120             120        120   \n",
       "unique            120        4        4          4               4          2   \n",
       "top        Patiant-01  Usually   Seldom  Sometimes       Sometimes         NO   \n",
       "freq                1       42       46         38              44         63   \n",
       "\n",
       "       Suicidal thoughts Anorxia Authority Respect Try-Explanation  \\\n",
       "count                120     120               120             120   \n",
       "unique                 3       2                 2               2   \n",
       "top                   NO      NO                NO              NO   \n",
       "freq                  63      74                73              63   \n",
       "\n",
       "       Aggressive Response Ignore & Move-On Nervous Break-down Admit Mistakes  \\\n",
       "count                  120              120                120            120   \n",
       "unique                   2                2                  2              2   \n",
       "top                     NO               NO                YES             NO   \n",
       "freq                    62               70                 62             61   \n",
       "\n",
       "       Overthinking Sexual Activity Concentration  Optimisim Expert Diagnose  \n",
       "count           120             120           120        120             120  \n",
       "unique            2               9             8          9               4  \n",
       "top             YES       5 From 10     4 From 10  6 From 10  Bipolar Type-2  \n",
       "freq             65              22            33         21              31  "
      ]
     },
     "execution_count": 132,
     "metadata": {},
     "output_type": "execute_result"
    }
   ],
   "source": [
    "df.describe()"
   ]
  },
  {
   "cell_type": "code",
   "execution_count": 133,
   "metadata": {
    "execution": {
     "iopub.execute_input": "2024-02-29T12:33:50.357288Z",
     "iopub.status.busy": "2024-02-29T12:33:50.354294Z",
     "iopub.status.idle": "2024-02-29T12:33:50.372702Z",
     "shell.execute_reply": "2024-02-29T12:33:50.371365Z",
     "shell.execute_reply.started": "2024-02-29T12:33:50.357243Z"
    }
   },
   "outputs": [
    {
     "data": {
      "text/plain": [
       "Bipolar Type-2    31\n",
       "Depression        31\n",
       "Normal            30\n",
       "Bipolar Type-1    28\n",
       "Name: Expert Diagnose, dtype: int64"
      ]
     },
     "execution_count": 133,
     "metadata": {},
     "output_type": "execute_result"
    }
   ],
   "source": [
    "df['Expert Diagnose'].value_counts()"
   ]
  },
  {
   "cell_type": "code",
   "execution_count": 134,
   "metadata": {},
   "outputs": [
    {
     "data": {
      "text/plain": [
       "NO      63\n",
       "YES     56\n",
       "YES      1\n",
       "Name: Suicidal thoughts, dtype: int64"
      ]
     },
     "execution_count": 134,
     "metadata": {},
     "output_type": "execute_result"
    }
   ],
   "source": [
    "df['Suicidal thoughts'].value_counts()"
   ]
  },
  {
   "cell_type": "code",
   "execution_count": 135,
   "metadata": {},
   "outputs": [],
   "source": [
    "df['Suicidal thoughts'] = df['Suicidal thoughts'].replace('YES ', \"YES\")"
   ]
  },
  {
   "cell_type": "code",
   "execution_count": 136,
   "metadata": {},
   "outputs": [
    {
     "data": {
      "text/plain": [
       "NO     63\n",
       "YES    57\n",
       "Name: Suicidal thoughts, dtype: int64"
      ]
     },
     "execution_count": 136,
     "metadata": {},
     "output_type": "execute_result"
    }
   ],
   "source": [
    "df['Suicidal thoughts'].value_counts()"
   ]
  },
  {
   "cell_type": "code",
   "execution_count": 137,
   "metadata": {},
   "outputs": [
    {
     "data": {
      "text/plain": [
       "Usually       42\n",
       "Sometimes     42\n",
       "Most-Often    20\n",
       "Seldom        16\n",
       "Name: Sadness, dtype: int64"
      ]
     },
     "execution_count": 137,
     "metadata": {},
     "output_type": "execute_result"
    }
   ],
   "source": [
    "df['Sadness'].value_counts()"
   ]
  },
  {
   "cell_type": "code",
   "execution_count": 138,
   "metadata": {},
   "outputs": [
    {
     "data": {
      "text/plain": [
       "Seldom        46\n",
       "Sometimes     45\n",
       "Usually       20\n",
       "Most-Often     9\n",
       "Name: Euphoric, dtype: int64"
      ]
     },
     "execution_count": 138,
     "metadata": {},
     "output_type": "execute_result"
    }
   ],
   "source": [
    "df['Euphoric'].value_counts()"
   ]
  },
  {
   "cell_type": "code",
   "execution_count": 139,
   "metadata": {},
   "outputs": [
    {
     "data": {
      "text/plain": [
       "5 From 10    22\n",
       "4 From 10    20\n",
       "3 From 10    17\n",
       "6 From 10    15\n",
       "2 From 10    15\n",
       "7 From 10    14\n",
       "8 From 10    11\n",
       "1 From 10     4\n",
       "9 From 10     2\n",
       "Name: Sexual Activity, dtype: int64"
      ]
     },
     "execution_count": 139,
     "metadata": {},
     "output_type": "execute_result"
    }
   ],
   "source": [
    "df['Sexual Activity'].value_counts()"
   ]
  },
  {
   "cell_type": "code",
   "execution_count": 140,
   "metadata": {},
   "outputs": [
    {
     "data": {
      "text/plain": [
       "6 From 10    21\n",
       "5 From 10    20\n",
       "4 From 10    19\n",
       "2 From 10    18\n",
       "3 From 10    18\n",
       "7 From 10     8\n",
       "8 From 10     8\n",
       "1 From 10     6\n",
       "9 From 10     2\n",
       "Name: Optimisim, dtype: int64"
      ]
     },
     "execution_count": 140,
     "metadata": {},
     "output_type": "execute_result"
    }
   ],
   "source": [
    "df['Optimisim'].value_counts()"
   ]
  },
  {
   "cell_type": "code",
   "execution_count": 141,
   "metadata": {},
   "outputs": [
    {
     "data": {
      "text/plain": [
       "<seaborn.axisgrid.FacetGrid at 0x1cb30ada730>"
      ]
     },
     "execution_count": 141,
     "metadata": {},
     "output_type": "execute_result"
    },
    {
     "data": {
      "image/png": "[encoded data removed]",
      "text/plain": [
       "<Figure size 979.111x880 with 8 Axes>"
      ]
     },
     "metadata": {},
     "output_type": "display_data"
    }
   ],
   "source": [
    "grid = sns.FacetGrid(df, col='Suicidal thoughts', row='Expert Diagnose', height=2.2, aspect=2.2)\n",
    "grid.map(plt.hist, 'Sadness')\n",
    "grid.add_legend()"
   ]
  },
  {
   "cell_type": "code",
   "execution_count": 142,
   "metadata": {},
   "outputs": [
    {
     "data": {
      "text/html": [
       "<div>\n",
       "<style scoped>\n",
       "    .dataframe tbody tr th:only-of-type {\n",
       "        vertical-align: middle;\n",
       "    }\n",
       "\n",
       "    .dataframe tbody tr th {\n",
       "        vertical-align: top;\n",
       "    }\n",
       "\n",
       "    .dataframe thead th {\n",
       "        text-align: right;\n",
       "    }\n",
       "</style>\n",
       "<table border=\"1\" class=\"dataframe\">\n",
       "  <thead>\n",
       "    <tr style=\"text-align: right;\">\n",
       "      <th></th>\n",
       "      <th>Sadness</th>\n",
       "      <th>Euphoric</th>\n",
       "      <th>Exhausted</th>\n",
       "      <th>Sleep dissorder</th>\n",
       "      <th>Mood Swing</th>\n",
       "      <th>Suicidal thoughts</th>\n",
       "      <th>Anorxia</th>\n",
       "      <th>Authority Respect</th>\n",
       "      <th>Try-Explanation</th>\n",
       "      <th>Aggressive Response</th>\n",
       "      <th>Ignore &amp; Move-On</th>\n",
       "      <th>Nervous Break-down</th>\n",
       "      <th>Admit Mistakes</th>\n",
       "      <th>Overthinking</th>\n",
       "      <th>Sexual Activity</th>\n",
       "      <th>Concentration</th>\n",
       "      <th>Optimisim</th>\n",
       "      <th>Expert Diagnose</th>\n",
       "    </tr>\n",
       "  </thead>\n",
       "  <tbody>\n",
       "    <tr>\n",
       "      <th>0</th>\n",
       "      <td>Usually</td>\n",
       "      <td>Seldom</td>\n",
       "      <td>Sometimes</td>\n",
       "      <td>Sometimes</td>\n",
       "      <td>YES</td>\n",
       "      <td>YES</td>\n",
       "      <td>NO</td>\n",
       "      <td>NO</td>\n",
       "      <td>YES</td>\n",
       "      <td>NO</td>\n",
       "      <td>NO</td>\n",
       "      <td>YES</td>\n",
       "      <td>YES</td>\n",
       "      <td>YES</td>\n",
       "      <td>3 From 10</td>\n",
       "      <td>3 From 10</td>\n",
       "      <td>4 From 10</td>\n",
       "      <td>Bipolar Type-2</td>\n",
       "    </tr>\n",
       "    <tr>\n",
       "      <th>1</th>\n",
       "      <td>Usually</td>\n",
       "      <td>Seldom</td>\n",
       "      <td>Usually</td>\n",
       "      <td>Sometimes</td>\n",
       "      <td>NO</td>\n",
       "      <td>YES</td>\n",
       "      <td>NO</td>\n",
       "      <td>NO</td>\n",
       "      <td>NO</td>\n",
       "      <td>NO</td>\n",
       "      <td>NO</td>\n",
       "      <td>NO</td>\n",
       "      <td>NO</td>\n",
       "      <td>NO</td>\n",
       "      <td>4 From 10</td>\n",
       "      <td>2 From 10</td>\n",
       "      <td>5 From 10</td>\n",
       "      <td>Depression</td>\n",
       "    </tr>\n",
       "    <tr>\n",
       "      <th>2</th>\n",
       "      <td>Sometimes</td>\n",
       "      <td>Most-Often</td>\n",
       "      <td>Sometimes</td>\n",
       "      <td>Sometimes</td>\n",
       "      <td>YES</td>\n",
       "      <td>NO</td>\n",
       "      <td>NO</td>\n",
       "      <td>NO</td>\n",
       "      <td>YES</td>\n",
       "      <td>YES</td>\n",
       "      <td>NO</td>\n",
       "      <td>YES</td>\n",
       "      <td>YES</td>\n",
       "      <td>NO</td>\n",
       "      <td>6 From 10</td>\n",
       "      <td>5 From 10</td>\n",
       "      <td>7 From 10</td>\n",
       "      <td>Bipolar Type-1</td>\n",
       "    </tr>\n",
       "    <tr>\n",
       "      <th>3</th>\n",
       "      <td>Usually</td>\n",
       "      <td>Seldom</td>\n",
       "      <td>Usually</td>\n",
       "      <td>Most-Often</td>\n",
       "      <td>YES</td>\n",
       "      <td>YES</td>\n",
       "      <td>YES</td>\n",
       "      <td>NO</td>\n",
       "      <td>YES</td>\n",
       "      <td>NO</td>\n",
       "      <td>NO</td>\n",
       "      <td>NO</td>\n",
       "      <td>NO</td>\n",
       "      <td>NO</td>\n",
       "      <td>3 From 10</td>\n",
       "      <td>2 From 10</td>\n",
       "      <td>2 From 10</td>\n",
       "      <td>Bipolar Type-2</td>\n",
       "    </tr>\n",
       "    <tr>\n",
       "      <th>4</th>\n",
       "      <td>Usually</td>\n",
       "      <td>Usually</td>\n",
       "      <td>Sometimes</td>\n",
       "      <td>Sometimes</td>\n",
       "      <td>NO</td>\n",
       "      <td>NO</td>\n",
       "      <td>NO</td>\n",
       "      <td>NO</td>\n",
       "      <td>NO</td>\n",
       "      <td>NO</td>\n",
       "      <td>NO</td>\n",
       "      <td>YES</td>\n",
       "      <td>YES</td>\n",
       "      <td>YES</td>\n",
       "      <td>5 From 10</td>\n",
       "      <td>5 From 10</td>\n",
       "      <td>6 From 10</td>\n",
       "      <td>Normal</td>\n",
       "    </tr>\n",
       "  </tbody>\n",
       "</table>\n",
       "</div>"
      ],
      "text/plain": [
       "     Sadness    Euphoric  Exhausted Sleep dissorder Mood Swing  \\\n",
       "0    Usually      Seldom  Sometimes       Sometimes        YES   \n",
       "1    Usually      Seldom    Usually       Sometimes         NO   \n",
       "2  Sometimes  Most-Often  Sometimes       Sometimes        YES   \n",
       "3    Usually      Seldom    Usually      Most-Often        YES   \n",
       "4    Usually     Usually  Sometimes       Sometimes         NO   \n",
       "\n",
       "  Suicidal thoughts Anorxia Authority Respect Try-Explanation  \\\n",
       "0               YES      NO                NO             YES   \n",
       "1               YES      NO                NO              NO   \n",
       "2                NO      NO                NO             YES   \n",
       "3               YES     YES                NO             YES   \n",
       "4                NO      NO                NO              NO   \n",
       "\n",
       "  Aggressive Response Ignore & Move-On Nervous Break-down Admit Mistakes  \\\n",
       "0                  NO               NO                YES            YES   \n",
       "1                  NO               NO                 NO             NO   \n",
       "2                 YES               NO                YES            YES   \n",
       "3                  NO               NO                 NO             NO   \n",
       "4                  NO               NO                YES            YES   \n",
       "\n",
       "  Overthinking Sexual Activity Concentration  Optimisim Expert Diagnose  \n",
       "0          YES       3 From 10     3 From 10  4 From 10  Bipolar Type-2  \n",
       "1           NO       4 From 10     2 From 10  5 From 10      Depression  \n",
       "2           NO       6 From 10     5 From 10  7 From 10  Bipolar Type-1  \n",
       "3           NO       3 From 10     2 From 10  2 From 10  Bipolar Type-2  \n",
       "4          YES       5 From 10     5 From 10  6 From 10          Normal  "
      ]
     },
     "execution_count": 142,
     "metadata": {},
     "output_type": "execute_result"
    }
   ],
   "source": [
    "df = df.drop('Patient Number', axis=1)\n",
    "df.head()"
   ]
  },
  {
   "cell_type": "code",
   "execution_count": 143,
   "metadata": {},
   "outputs": [
    {
     "data": {
      "text/html": [
       "<div>\n",
       "<style scoped>\n",
       "    .dataframe tbody tr th:only-of-type {\n",
       "        vertical-align: middle;\n",
       "    }\n",
       "\n",
       "    .dataframe tbody tr th {\n",
       "        vertical-align: top;\n",
       "    }\n",
       "\n",
       "    .dataframe thead th {\n",
       "        text-align: right;\n",
       "    }\n",
       "</style>\n",
       "<table border=\"1\" class=\"dataframe\">\n",
       "  <thead>\n",
       "    <tr style=\"text-align: right;\">\n",
       "      <th></th>\n",
       "      <th>Sadness</th>\n",
       "      <th>Euphoric</th>\n",
       "      <th>Exhausted</th>\n",
       "      <th>Sleep dissorder</th>\n",
       "      <th>Mood Swing</th>\n",
       "      <th>Suicidal thoughts</th>\n",
       "      <th>Anorxia</th>\n",
       "      <th>Authority Respect</th>\n",
       "      <th>Try-Explanation</th>\n",
       "      <th>Aggressive Response</th>\n",
       "      <th>Ignore &amp; Move-On</th>\n",
       "      <th>Nervous Break-down</th>\n",
       "      <th>Admit Mistakes</th>\n",
       "      <th>Overthinking</th>\n",
       "      <th>Sexual Activity</th>\n",
       "      <th>Concentration</th>\n",
       "      <th>Optimisim</th>\n",
       "      <th>Expert Diagnose</th>\n",
       "    </tr>\n",
       "  </thead>\n",
       "  <tbody>\n",
       "    <tr>\n",
       "      <th>0</th>\n",
       "      <td>Usually</td>\n",
       "      <td>Seldom</td>\n",
       "      <td>Sometimes</td>\n",
       "      <td>Sometimes</td>\n",
       "      <td>YES</td>\n",
       "      <td>YES</td>\n",
       "      <td>NO</td>\n",
       "      <td>NO</td>\n",
       "      <td>YES</td>\n",
       "      <td>NO</td>\n",
       "      <td>NO</td>\n",
       "      <td>YES</td>\n",
       "      <td>YES</td>\n",
       "      <td>YES</td>\n",
       "      <td>3 From 10</td>\n",
       "      <td>3 From 10</td>\n",
       "      <td>4 From 10</td>\n",
       "      <td>2</td>\n",
       "    </tr>\n",
       "    <tr>\n",
       "      <th>1</th>\n",
       "      <td>Usually</td>\n",
       "      <td>Seldom</td>\n",
       "      <td>Usually</td>\n",
       "      <td>Sometimes</td>\n",
       "      <td>NO</td>\n",
       "      <td>YES</td>\n",
       "      <td>NO</td>\n",
       "      <td>NO</td>\n",
       "      <td>NO</td>\n",
       "      <td>NO</td>\n",
       "      <td>NO</td>\n",
       "      <td>NO</td>\n",
       "      <td>NO</td>\n",
       "      <td>NO</td>\n",
       "      <td>4 From 10</td>\n",
       "      <td>2 From 10</td>\n",
       "      <td>5 From 10</td>\n",
       "      <td>3</td>\n",
       "    </tr>\n",
       "    <tr>\n",
       "      <th>2</th>\n",
       "      <td>Sometimes</td>\n",
       "      <td>Most-Often</td>\n",
       "      <td>Sometimes</td>\n",
       "      <td>Sometimes</td>\n",
       "      <td>YES</td>\n",
       "      <td>NO</td>\n",
       "      <td>NO</td>\n",
       "      <td>NO</td>\n",
       "      <td>YES</td>\n",
       "      <td>YES</td>\n",
       "      <td>NO</td>\n",
       "      <td>YES</td>\n",
       "      <td>YES</td>\n",
       "      <td>NO</td>\n",
       "      <td>6 From 10</td>\n",
       "      <td>5 From 10</td>\n",
       "      <td>7 From 10</td>\n",
       "      <td>1</td>\n",
       "    </tr>\n",
       "    <tr>\n",
       "      <th>3</th>\n",
       "      <td>Usually</td>\n",
       "      <td>Seldom</td>\n",
       "      <td>Usually</td>\n",
       "      <td>Most-Often</td>\n",
       "      <td>YES</td>\n",
       "      <td>YES</td>\n",
       "      <td>YES</td>\n",
       "      <td>NO</td>\n",
       "      <td>YES</td>\n",
       "      <td>NO</td>\n",
       "      <td>NO</td>\n",
       "      <td>NO</td>\n",
       "      <td>NO</td>\n",
       "      <td>NO</td>\n",
       "      <td>3 From 10</td>\n",
       "      <td>2 From 10</td>\n",
       "      <td>2 From 10</td>\n",
       "      <td>2</td>\n",
       "    </tr>\n",
       "    <tr>\n",
       "      <th>4</th>\n",
       "      <td>Usually</td>\n",
       "      <td>Usually</td>\n",
       "      <td>Sometimes</td>\n",
       "      <td>Sometimes</td>\n",
       "      <td>NO</td>\n",
       "      <td>NO</td>\n",
       "      <td>NO</td>\n",
       "      <td>NO</td>\n",
       "      <td>NO</td>\n",
       "      <td>NO</td>\n",
       "      <td>NO</td>\n",
       "      <td>YES</td>\n",
       "      <td>YES</td>\n",
       "      <td>YES</td>\n",
       "      <td>5 From 10</td>\n",
       "      <td>5 From 10</td>\n",
       "      <td>6 From 10</td>\n",
       "      <td>0</td>\n",
       "    </tr>\n",
       "  </tbody>\n",
       "</table>\n",
       "</div>"
      ],
      "text/plain": [
       "     Sadness    Euphoric  Exhausted Sleep dissorder Mood Swing  \\\n",
       "0    Usually      Seldom  Sometimes       Sometimes        YES   \n",
       "1    Usually      Seldom    Usually       Sometimes         NO   \n",
       "2  Sometimes  Most-Often  Sometimes       Sometimes        YES   \n",
       "3    Usually      Seldom    Usually      Most-Often        YES   \n",
       "4    Usually     Usually  Sometimes       Sometimes         NO   \n",
       "\n",
       "  Suicidal thoughts Anorxia Authority Respect Try-Explanation  \\\n",
       "0               YES      NO                NO             YES   \n",
       "1               YES      NO                NO              NO   \n",
       "2                NO      NO                NO             YES   \n",
       "3               YES     YES                NO             YES   \n",
       "4                NO      NO                NO              NO   \n",
       "\n",
       "  Aggressive Response Ignore & Move-On Nervous Break-down Admit Mistakes  \\\n",
       "0                  NO               NO                YES            YES   \n",
       "1                  NO               NO                 NO             NO   \n",
       "2                 YES               NO                YES            YES   \n",
       "3                  NO               NO                 NO             NO   \n",
       "4                  NO               NO                YES            YES   \n",
       "\n",
       "  Overthinking Sexual Activity Concentration  Optimisim  Expert Diagnose  \n",
       "0          YES       3 From 10     3 From 10  4 From 10                2  \n",
       "1           NO       4 From 10     2 From 10  5 From 10                3  \n",
       "2           NO       6 From 10     5 From 10  7 From 10                1  \n",
       "3           NO       3 From 10     2 From 10  2 From 10                2  \n",
       "4          YES       5 From 10     5 From 10  6 From 10                0  "
      ]
     },
     "execution_count": 143,
     "metadata": {},
     "output_type": "execute_result"
    }
   ],
   "source": [
    "df['Expert Diagnose'] = df['Expert Diagnose'].map({'Normal': 0, \n",
    "                                                   'Bipolar Type-1': 1,\n",
    "                                                  'Bipolar Type-2': 2,\n",
    "                                                  'Depression': 3}).astype(int)\n",
    "df.head()"
   ]
  },
  {
   "cell_type": "code",
   "execution_count": 144,
   "metadata": {},
   "outputs": [],
   "source": [
    "yes_no_cols = ['Mood Swing', 'Suicidal thoughts', 'Anorxia', 'Authority Respect', 'Try-Explanation', 'Aggressive Response', 'Ignore & Move-On', 'Nervous Break-down', 'Admit Mistakes', 'Overthinking']\n",
    "for col in yes_no_cols:\n",
    "    df[col] = df[col].map({'YES': 1, 'NO': 0}).astype(int)"
   ]
  },
  {
   "cell_type": "code",
   "execution_count": 145,
   "metadata": {},
   "outputs": [
    {
     "data": {
      "text/html": [
       "<div>\n",
       "<style scoped>\n",
       "    .dataframe tbody tr th:only-of-type {\n",
       "        vertical-align: middle;\n",
       "    }\n",
       "\n",
       "    .dataframe tbody tr th {\n",
       "        vertical-align: top;\n",
       "    }\n",
       "\n",
       "    .dataframe thead th {\n",
       "        text-align: right;\n",
       "    }\n",
       "</style>\n",
       "<table border=\"1\" class=\"dataframe\">\n",
       "  <thead>\n",
       "    <tr style=\"text-align: right;\">\n",
       "      <th></th>\n",
       "      <th>Sadness</th>\n",
       "      <th>Euphoric</th>\n",
       "      <th>Exhausted</th>\n",
       "      <th>Sleep dissorder</th>\n",
       "      <th>Mood Swing</th>\n",
       "      <th>Suicidal thoughts</th>\n",
       "      <th>Anorxia</th>\n",
       "      <th>Authority Respect</th>\n",
       "      <th>Try-Explanation</th>\n",
       "      <th>Aggressive Response</th>\n",
       "      <th>Ignore &amp; Move-On</th>\n",
       "      <th>Nervous Break-down</th>\n",
       "      <th>Admit Mistakes</th>\n",
       "      <th>Overthinking</th>\n",
       "      <th>Sexual Activity</th>\n",
       "      <th>Concentration</th>\n",
       "      <th>Optimisim</th>\n",
       "      <th>Expert Diagnose</th>\n",
       "    </tr>\n",
       "  </thead>\n",
       "  <tbody>\n",
       "    <tr>\n",
       "      <th>0</th>\n",
       "      <td>Usually</td>\n",
       "      <td>Seldom</td>\n",
       "      <td>Sometimes</td>\n",
       "      <td>Sometimes</td>\n",
       "      <td>1</td>\n",
       "      <td>1</td>\n",
       "      <td>0</td>\n",
       "      <td>0</td>\n",
       "      <td>1</td>\n",
       "      <td>0</td>\n",
       "      <td>0</td>\n",
       "      <td>1</td>\n",
       "      <td>1</td>\n",
       "      <td>1</td>\n",
       "      <td>3 From 10</td>\n",
       "      <td>3 From 10</td>\n",
       "      <td>4 From 10</td>\n",
       "      <td>2</td>\n",
       "    </tr>\n",
       "    <tr>\n",
       "      <th>1</th>\n",
       "      <td>Usually</td>\n",
       "      <td>Seldom</td>\n",
       "      <td>Usually</td>\n",
       "      <td>Sometimes</td>\n",
       "      <td>0</td>\n",
       "      <td>1</td>\n",
       "      <td>0</td>\n",
       "      <td>0</td>\n",
       "      <td>0</td>\n",
       "      <td>0</td>\n",
       "      <td>0</td>\n",
       "      <td>0</td>\n",
       "      <td>0</td>\n",
       "      <td>0</td>\n",
       "      <td>4 From 10</td>\n",
       "      <td>2 From 10</td>\n",
       "      <td>5 From 10</td>\n",
       "      <td>3</td>\n",
       "    </tr>\n",
       "    <tr>\n",
       "      <th>2</th>\n",
       "      <td>Sometimes</td>\n",
       "      <td>Most-Often</td>\n",
       "      <td>Sometimes</td>\n",
       "      <td>Sometimes</td>\n",
       "      <td>1</td>\n",
       "      <td>0</td>\n",
       "      <td>0</td>\n",
       "      <td>0</td>\n",
       "      <td>1</td>\n",
       "      <td>1</td>\n",
       "      <td>0</td>\n",
       "      <td>1</td>\n",
       "      <td>1</td>\n",
       "      <td>0</td>\n",
       "      <td>6 From 10</td>\n",
       "      <td>5 From 10</td>\n",
       "      <td>7 From 10</td>\n",
       "      <td>1</td>\n",
       "    </tr>\n",
       "    <tr>\n",
       "      <th>3</th>\n",
       "      <td>Usually</td>\n",
       "      <td>Seldom</td>\n",
       "      <td>Usually</td>\n",
       "      <td>Most-Often</td>\n",
       "      <td>1</td>\n",
       "      <td>1</td>\n",
       "      <td>1</td>\n",
       "      <td>0</td>\n",
       "      <td>1</td>\n",
       "      <td>0</td>\n",
       "      <td>0</td>\n",
       "      <td>0</td>\n",
       "      <td>0</td>\n",
       "      <td>0</td>\n",
       "      <td>3 From 10</td>\n",
       "      <td>2 From 10</td>\n",
       "      <td>2 From 10</td>\n",
       "      <td>2</td>\n",
       "    </tr>\n",
       "    <tr>\n",
       "      <th>4</th>\n",
       "      <td>Usually</td>\n",
       "      <td>Usually</td>\n",
       "      <td>Sometimes</td>\n",
       "      <td>Sometimes</td>\n",
       "      <td>0</td>\n",
       "      <td>0</td>\n",
       "      <td>0</td>\n",
       "      <td>0</td>\n",
       "      <td>0</td>\n",
       "      <td>0</td>\n",
       "      <td>0</td>\n",
       "      <td>1</td>\n",
       "      <td>1</td>\n",
       "      <td>1</td>\n",
       "      <td>5 From 10</td>\n",
       "      <td>5 From 10</td>\n",
       "      <td>6 From 10</td>\n",
       "      <td>0</td>\n",
       "    </tr>\n",
       "  </tbody>\n",
       "</table>\n",
       "</div>"
      ],
      "text/plain": [
       "     Sadness    Euphoric  Exhausted Sleep dissorder  Mood Swing  \\\n",
       "0    Usually      Seldom  Sometimes       Sometimes           1   \n",
       "1    Usually      Seldom    Usually       Sometimes           0   \n",
       "2  Sometimes  Most-Often  Sometimes       Sometimes           1   \n",
       "3    Usually      Seldom    Usually      Most-Often           1   \n",
       "4    Usually     Usually  Sometimes       Sometimes           0   \n",
       "\n",
       "   Suicidal thoughts  Anorxia  Authority Respect  Try-Explanation  \\\n",
       "0                  1        0                  0                1   \n",
       "1                  1        0                  0                0   \n",
       "2                  0        0                  0                1   \n",
       "3                  1        1                  0                1   \n",
       "4                  0        0                  0                0   \n",
       "\n",
       "   Aggressive Response  Ignore & Move-On  Nervous Break-down  Admit Mistakes  \\\n",
       "0                    0                 0                   1               1   \n",
       "1                    0                 0                   0               0   \n",
       "2                    1                 0                   1               1   \n",
       "3                    0                 0                   0               0   \n",
       "4                    0                 0                   1               1   \n",
       "\n",
       "   Overthinking Sexual Activity Concentration  Optimisim  Expert Diagnose  \n",
       "0             1       3 From 10     3 From 10  4 From 10                2  \n",
       "1             0       4 From 10     2 From 10  5 From 10                3  \n",
       "2             0       6 From 10     5 From 10  7 From 10                1  \n",
       "3             0       3 From 10     2 From 10  2 From 10                2  \n",
       "4             1       5 From 10     5 From 10  6 From 10                0  "
      ]
     },
     "execution_count": 145,
     "metadata": {},
     "output_type": "execute_result"
    }
   ],
   "source": [
    "df.head()"
   ]
  },
  {
   "cell_type": "code",
   "execution_count": 146,
   "metadata": {},
   "outputs": [],
   "source": [
    "X = df.drop(columns=['Expert Diagnose'],axis=1)\n",
    "y = df['Expert Diagnose']"
   ]
  },
  {
   "cell_type": "code",
   "execution_count": 147,
   "metadata": {},
   "outputs": [],
   "source": [
    "X_train, X_test, y_train, y_test = train_test_split(X, y, test_size=0.2, random_state=42)\n"
   ]
  },
  {
   "cell_type": "code",
   "execution_count": 148,
   "metadata": {},
   "outputs": [
    {
     "data": {
      "text/plain": [
       "(96, 17)"
      ]
     },
     "execution_count": 148,
     "metadata": {},
     "output_type": "execute_result"
    }
   ],
   "source": [
    "X_train.shape"
   ]
  },
  {
   "cell_type": "code",
   "execution_count": 149,
   "metadata": {},
   "outputs": [
    {
     "data": {
      "text/plain": [
       "(96,)"
      ]
     },
     "execution_count": 149,
     "metadata": {},
     "output_type": "execute_result"
    }
   ],
   "source": [
    "y_train.shape"
   ]
  },
  {
   "cell_type": "code",
   "execution_count": 150,
   "metadata": {},
   "outputs": [
    {
     "data": {
      "text/plain": [
       "(24, 17)"
      ]
     },
     "execution_count": 150,
     "metadata": {},
     "output_type": "execute_result"
    }
   ],
   "source": [
    "X_test.shape"
   ]
  },
  {
   "cell_type": "code",
   "execution_count": 151,
   "metadata": {},
   "outputs": [
    {
     "data": {
      "text/plain": [
       "(24,)"
      ]
     },
     "execution_count": 151,
     "metadata": {},
     "output_type": "execute_result"
    }
   ],
   "source": [
    "y_test.shape"
   ]
  },
  {
   "cell_type": "code",
   "execution_count": 152,
   "metadata": {},
   "outputs": [
    {
     "data": {
      "text/html": [
       "<div>\n",
       "<style scoped>\n",
       "    .dataframe tbody tr th:only-of-type {\n",
       "        vertical-align: middle;\n",
       "    }\n",
       "\n",
       "    .dataframe tbody tr th {\n",
       "        vertical-align: top;\n",
       "    }\n",
       "\n",
       "    .dataframe thead th {\n",
       "        text-align: right;\n",
       "    }\n",
       "</style>\n",
       "<table border=\"1\" class=\"dataframe\">\n",
       "  <thead>\n",
       "    <tr style=\"text-align: right;\">\n",
       "      <th></th>\n",
       "      <th>Sadness</th>\n",
       "      <th>Euphoric</th>\n",
       "      <th>Exhausted</th>\n",
       "      <th>Sleep dissorder</th>\n",
       "      <th>Mood Swing</th>\n",
       "      <th>Suicidal thoughts</th>\n",
       "      <th>Anorxia</th>\n",
       "      <th>Authority Respect</th>\n",
       "      <th>Try-Explanation</th>\n",
       "      <th>Aggressive Response</th>\n",
       "      <th>Ignore &amp; Move-On</th>\n",
       "      <th>Nervous Break-down</th>\n",
       "      <th>Admit Mistakes</th>\n",
       "      <th>Overthinking</th>\n",
       "      <th>Sexual Activity</th>\n",
       "      <th>Concentration</th>\n",
       "      <th>Optimisim</th>\n",
       "    </tr>\n",
       "  </thead>\n",
       "  <tbody>\n",
       "    <tr>\n",
       "      <th>42</th>\n",
       "      <td>Seldom</td>\n",
       "      <td>Sometimes</td>\n",
       "      <td>Sometimes</td>\n",
       "      <td>Seldom</td>\n",
       "      <td>1</td>\n",
       "      <td>0</td>\n",
       "      <td>0</td>\n",
       "      <td>1</td>\n",
       "      <td>0</td>\n",
       "      <td>0</td>\n",
       "      <td>1</td>\n",
       "      <td>0</td>\n",
       "      <td>1</td>\n",
       "      <td>1</td>\n",
       "      <td>4 From 10</td>\n",
       "      <td>4 From 10</td>\n",
       "      <td>6 From 10</td>\n",
       "    </tr>\n",
       "    <tr>\n",
       "      <th>12</th>\n",
       "      <td>Most-Often</td>\n",
       "      <td>Sometimes</td>\n",
       "      <td>Most-Often</td>\n",
       "      <td>Usually</td>\n",
       "      <td>1</td>\n",
       "      <td>1</td>\n",
       "      <td>1</td>\n",
       "      <td>0</td>\n",
       "      <td>1</td>\n",
       "      <td>1</td>\n",
       "      <td>0</td>\n",
       "      <td>1</td>\n",
       "      <td>0</td>\n",
       "      <td>1</td>\n",
       "      <td>9 From 10</td>\n",
       "      <td>2 From 10</td>\n",
       "      <td>4 From 10</td>\n",
       "    </tr>\n",
       "    <tr>\n",
       "      <th>15</th>\n",
       "      <td>Sometimes</td>\n",
       "      <td>Sometimes</td>\n",
       "      <td>Sometimes</td>\n",
       "      <td>Sometimes</td>\n",
       "      <td>1</td>\n",
       "      <td>0</td>\n",
       "      <td>1</td>\n",
       "      <td>0</td>\n",
       "      <td>1</td>\n",
       "      <td>1</td>\n",
       "      <td>0</td>\n",
       "      <td>0</td>\n",
       "      <td>0</td>\n",
       "      <td>1</td>\n",
       "      <td>6 From 10</td>\n",
       "      <td>4 From 10</td>\n",
       "      <td>6 From 10</td>\n",
       "    </tr>\n",
       "    <tr>\n",
       "      <th>114</th>\n",
       "      <td>Seldom</td>\n",
       "      <td>Sometimes</td>\n",
       "      <td>Seldom</td>\n",
       "      <td>Usually</td>\n",
       "      <td>0</td>\n",
       "      <td>0</td>\n",
       "      <td>0</td>\n",
       "      <td>0</td>\n",
       "      <td>0</td>\n",
       "      <td>1</td>\n",
       "      <td>0</td>\n",
       "      <td>0</td>\n",
       "      <td>0</td>\n",
       "      <td>0</td>\n",
       "      <td>5 From 10</td>\n",
       "      <td>8 From 10</td>\n",
       "      <td>7 From 10</td>\n",
       "    </tr>\n",
       "    <tr>\n",
       "      <th>76</th>\n",
       "      <td>Usually</td>\n",
       "      <td>Sometimes</td>\n",
       "      <td>Seldom</td>\n",
       "      <td>Seldom</td>\n",
       "      <td>0</td>\n",
       "      <td>0</td>\n",
       "      <td>1</td>\n",
       "      <td>0</td>\n",
       "      <td>0</td>\n",
       "      <td>1</td>\n",
       "      <td>0</td>\n",
       "      <td>0</td>\n",
       "      <td>0</td>\n",
       "      <td>1</td>\n",
       "      <td>8 From 10</td>\n",
       "      <td>2 From 10</td>\n",
       "      <td>8 From 10</td>\n",
       "    </tr>\n",
       "  </tbody>\n",
       "</table>\n",
       "</div>"
      ],
      "text/plain": [
       "        Sadness   Euphoric   Exhausted Sleep dissorder  Mood Swing  \\\n",
       "42       Seldom  Sometimes   Sometimes          Seldom           1   \n",
       "12   Most-Often  Sometimes  Most-Often         Usually           1   \n",
       "15    Sometimes  Sometimes   Sometimes       Sometimes           1   \n",
       "114      Seldom  Sometimes      Seldom         Usually           0   \n",
       "76      Usually  Sometimes      Seldom          Seldom           0   \n",
       "\n",
       "     Suicidal thoughts  Anorxia  Authority Respect  Try-Explanation  \\\n",
       "42                   0        0                  1                0   \n",
       "12                   1        1                  0                1   \n",
       "15                   0        1                  0                1   \n",
       "114                  0        0                  0                0   \n",
       "76                   0        1                  0                0   \n",
       "\n",
       "     Aggressive Response  Ignore & Move-On  Nervous Break-down  \\\n",
       "42                     0                 1                   0   \n",
       "12                     1                 0                   1   \n",
       "15                     1                 0                   0   \n",
       "114                    1                 0                   0   \n",
       "76                     1                 0                   0   \n",
       "\n",
       "     Admit Mistakes  Overthinking Sexual Activity Concentration  Optimisim  \n",
       "42                1             1       4 From 10     4 From 10  6 From 10  \n",
       "12                0             1       9 From 10     2 From 10  4 From 10  \n",
       "15                0             1       6 From 10     4 From 10  6 From 10  \n",
       "114               0             0       5 From 10     8 From 10  7 From 10  \n",
       "76                0             1       8 From 10     2 From 10  8 From 10  "
      ]
     },
     "execution_count": 152,
     "metadata": {},
     "output_type": "execute_result"
    }
   ],
   "source": [
    "X_train.head()"
   ]
  },
  {
   "cell_type": "code",
   "execution_count": 153,
   "metadata": {},
   "outputs": [],
   "source": [
    "encoder = OneHotEncoder(handle_unknown='ignore')\n",
    "X_train_encoded = encoder.fit_transform(X_train)\n",
    "X_test_encoded = encoder.transform(X_test)\n"
   ]
  },
  {
   "cell_type": "code",
   "execution_count": 154,
   "metadata": {},
   "outputs": [
    {
     "data": {
      "text/plain": [
       "LogisticRegression()"
      ]
     },
     "execution_count": 154,
     "metadata": {},
     "output_type": "execute_result"
    }
   ],
   "source": [
    "logreg = LogisticRegression()\n",
    "logreg.fit(X_train_encoded, y_train)"
   ]
  },
  {
   "cell_type": "code",
   "execution_count": 155,
   "metadata": {},
   "outputs": [],
   "source": [
    "y_pred_logreg = logreg.predict(X_test_encoded)\n",
    "accuracy_logreg = accuracy_score(y_test, y_pred_logreg)"
   ]
  },
  {
   "cell_type": "code",
   "execution_count": 156,
   "metadata": {},
   "outputs": [
    {
     "data": {
      "text/plain": [
       "0.9166666666666666"
      ]
     },
     "execution_count": 156,
     "metadata": {},
     "output_type": "execute_result"
    }
   ],
   "source": [
    "accuracy_logreg"
   ]
  },
  {
   "cell_type": "code",
   "execution_count": 157,
   "metadata": {},
   "outputs": [
    {
     "data": {
      "text/plain": [
       "'              precision    recall  f1-score   support\\n\\n           0       1.00      0.86      0.92         7\\n           1       1.00      0.75      0.86         4\\n           2       0.83      1.00      0.91         5\\n           3       0.89      1.00      0.94         8\\n\\n    accuracy                           0.92        24\\n   macro avg       0.93      0.90      0.91        24\\nweighted avg       0.93      0.92      0.92        24\\n'"
      ]
     },
     "execution_count": 157,
     "metadata": {},
     "output_type": "execute_result"
    }
   ],
   "source": [
    "classification_report(y_test, y_pred_logreg)"
   ]
  },
  {
   "cell_type": "code",
   "execution_count": 158,
   "metadata": {},
   "outputs": [
    {
     "data": {
      "text/plain": [
       "RandomForestClassifier()"
      ]
     },
     "execution_count": 158,
     "metadata": {},
     "output_type": "execute_result"
    }
   ],
   "source": [
    "rf = RandomForestClassifier()\n",
    "rf.fit(X_train_encoded, y_train)"
   ]
  },
  {
   "cell_type": "code",
   "execution_count": 159,
   "metadata": {},
   "outputs": [],
   "source": [
    "y_pred_rf = rf.predict(X_test_encoded)\n",
    "accuracy_rf = accuracy_score(y_test, y_pred_rf)"
   ]
  },
  {
   "cell_type": "code",
   "execution_count": 160,
   "metadata": {},
   "outputs": [
    {
     "data": {
      "text/plain": [
       "0.7916666666666666"
      ]
     },
     "execution_count": 160,
     "metadata": {},
     "output_type": "execute_result"
    }
   ],
   "source": [
    "accuracy_rf"
   ]
  },
  {
   "cell_type": "code",
   "execution_count": 161,
   "metadata": {},
   "outputs": [
    {
     "data": {
      "text/plain": [
       "'              precision    recall  f1-score   support\\n\\n           0       0.80      0.57      0.67         7\\n           1       1.00      0.50      0.67         4\\n           2       0.83      1.00      0.91         5\\n           3       0.73      1.00      0.84         8\\n\\n    accuracy                           0.79        24\\n   macro avg       0.84      0.77      0.77        24\\nweighted avg       0.82      0.79      0.78        24\\n'"
      ]
     },
     "execution_count": 161,
     "metadata": {},
     "output_type": "execute_result"
    }
   ],
   "source": [
    "classification_report(y_test, y_pred_rf)"
   ]
  },
  {
   "cell_type": "code",
   "execution_count": 162,
   "metadata": {},
   "outputs": [
    {
     "data": {
      "text/plain": [
       "SVC()"
      ]
     },
     "execution_count": 162,
     "metadata": {},
     "output_type": "execute_result"
    }
   ],
   "source": [
    "svm = SVC()\n",
    "svm.fit(X_train_encoded, y_train)"
   ]
  },
  {
   "cell_type": "code",
   "execution_count": 163,
   "metadata": {},
   "outputs": [],
   "source": [
    "y_pred_svm = svm.predict(X_test_encoded)\n",
    "accuracy_svm = accuracy_score(y_test, y_pred_svm)"
   ]
  },
  {
   "cell_type": "code",
   "execution_count": 164,
   "metadata": {},
   "outputs": [
    {
     "data": {
      "text/plain": [
       "0.8333333333333334"
      ]
     },
     "execution_count": 164,
     "metadata": {},
     "output_type": "execute_result"
    }
   ],
   "source": [
    "accuracy_svm"
   ]
  },
  {
   "cell_type": "code",
   "execution_count": 165,
   "metadata": {},
   "outputs": [
    {
     "data": {
      "text/plain": [
       "'              precision    recall  f1-score   support\\n\\n           0       1.00      0.57      0.73         7\\n           1       0.75      0.75      0.75         4\\n           2       0.83      1.00      0.91         5\\n           3       0.80      1.00      0.89         8\\n\\n    accuracy                           0.83        24\\n   macro avg       0.85      0.83      0.82        24\\nweighted avg       0.86      0.83      0.82        24\\n'"
      ]
     },
     "execution_count": 165,
     "metadata": {},
     "output_type": "execute_result"
    }
   ],
   "source": [
    "classification_report(y_test, y_pred_svm)"
   ]
  },
  {
   "cell_type": "code",
   "execution_count": 166,
   "metadata": {},
   "outputs": [],
   "source": [
    "# new_data = pd.DataFrame({\n",
    "#     'Sadness': ['Sometimes'],\n",
    "#     'Euphoric': ['Usually'],\n",
    "#     'Exhausted':['Seldom'],\n",
    "#     ''\n",
    "# })\n",
    "# # 'Sometimes', 'Usually', 'Seldom', 'Usually', 'NO', 'NO', 'NO', 'YES', 'YES', 'NO'],\n",
    "# #     'Question2': ['NO', 'NO', 'NO', 'YES', 'YES', 'NO', 'YES', 'YES', 'NO', 'NO'],\n",
    "# #     'Question3': ['7 From 10', '3 From 10', '8 From 10', 'Normal'\n",
    "\n",
    "# new_data.head()"
   ]
  },
  {
   "cell_type": "code",
   "execution_count": 167,
   "metadata": {},
   "outputs": [],
   "source": [
    "# Given data\n",
    "data = {\n",
    "    'Sadness': ['Usually'],\n",
    "    'Euphoric': ['Seldom'],\n",
    "    'Exhausted': ['Usually'],\n",
    "    'Sleep dissorder': ['Sometimes'],\n",
    "    'Mood Swing': [0],\n",
    "    'Suicidal thoughts': [1],\n",
    "    'Anorxia': [0],\n",
    "    'Authority Respect': [0],\n",
    "    'Try-Explanation': [0],\n",
    "    'Aggressive Response': [0],\n",
    "    'Ignore & Move-On': [0],\n",
    "    'Nervous Break-down': [0],\n",
    "    'Admit Mistakes': [0],\n",
    "    'Overthinking': [0],\n",
    "    'Sexual Activity': ['4 From 10'],\n",
    "    'Concentration': ['2 From 10'],\n",
    "    'Optimisim': ['5 From 10']\n",
    "}\n",
    "\n",
    "# Create a DataFrame\n",
    "dummy_df = pd.DataFrame(data)\n",
    "\n",
    "test_encoded = encoder.transform(dummy_df)\n",
    "classes = ['Normal', 'Bipolar Type-1', 'Bipolar Type-2', 'Depression']"
   ]
  },
  {
   "cell_type": "code",
   "execution_count": 168,
   "metadata": {},
   "outputs": [],
   "source": [
    "result = classes[logreg.predict(test_encoded)[0]]"
   ]
  },
  {
   "cell_type": "code",
   "execution_count": 169,
   "metadata": {},
   "outputs": [
    {
     "name": "stdout",
     "output_type": "stream",
     "text": [
      "Depression\n"
     ]
    }
   ],
   "source": [
    "print(result)"
   ]
  },
  {
   "cell_type": "code",
   "execution_count": null,
   "metadata": {},
   "outputs": [],
   "source": []
  }
 ],
 "metadata": {
  "kaggle": {
   "accelerator": "none",
   "dataSources": [
    {
     "datasetId": 4352146,
     "sourceId": 7476679,
     "sourceType": "datasetVersion"
    }
   ],
   "dockerImageVersionId": 30646,
   "isGpuEnabled": false,
   "isInternetEnabled": false,
   "language": "python",
   "sourceType": "notebook"
  },
  "kernelspec": {
   "display_name": "Python 3 (ipykernel)",
   "language": "python",
   "name": "python3"
  },
  "language_info": {
   "codemirror_mode": {
    "name": "ipython",
    "version": 3
   },
   "file_extension": ".py",
   "mimetype": "text/x-python",
   "name": "python",
   "nbconvert_exporter": "python",
   "pygments_lexer": "ipython3",
   "version": "3.9.13"
  }
 },
 "nbformat": 4,
 "nbformat_minor": 4
}
